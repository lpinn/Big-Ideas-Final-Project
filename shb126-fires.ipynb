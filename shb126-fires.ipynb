{
 "cells": [
  {
   "cell_type": "markdown",
   "metadata": {},
   "source": [
    "Shelton Bai's Notebook\n",
    "Dataset: https://data.wprdc.org/dataset/fire-incidents-in-city-of-pittsburgh/resource/8d76ac6b-5ae8-4428-82a4-043130d17b02"
   ]
  },
  {
   "cell_type": "code",
   "execution_count": 9,
   "metadata": {},
   "outputs": [],
   "source": [
    "import pandas as pd\n",
    "import numpy as np\n",
    "from math import isnan"
   ]
  },
  {
   "cell_type": "code",
   "execution_count": 10,
   "metadata": {},
   "outputs": [
    {
     "name": "stdout",
     "output_type": "stream",
     "text": [
      "      call_no  incident_type        type_description  \\\n",
      "0  F160029985          111.0           Building fire   \n",
      "1  F180022058          111.0           Building fire   \n",
      "2  F180022102          131.0  Passenger vehicle fire   \n",
      "3  F170043431          131.0  Passenger vehicle fire   \n",
      "4  F180021111          111.0           Building fire   \n",
      "\n",
      "                                          address           alarm_time  \\\n",
      "0       800 BLOCK CENTER ST, WILKINSBURG PA 15221  2016-04-21T05:01:04   \n",
      "1        1100 BLOCK JANE ST, WILKINSBURG PA 15221  2018-03-13T08:34:43   \n",
      "2  SB STATE HWY 28 SB AT 31S, PITTSBURGH PA 15212  2018-03-13T11:54:23   \n",
      "3      1700 BLOCK BELLEAU DR, PITTSBURGH PA 15212  2017-05-31T08:39:47   \n",
      "4      2400 BLOCK VILLAGE RD, PITTSBURGH PA 15205  2018-03-09T10:26:42   \n",
      "\n",
      "   alarms primary_unit  census_tract neighborhood  council_district  ward  \\\n",
      "0       1      231EN16           NaN          NaN               NaN   NaN   \n",
      "1       1      231EN16           NaN          NaN               NaN   NaN   \n",
      "2       0      231EN32        2406.0          NaN               NaN   NaN   \n",
      "3       0      231EN38        2509.0     Fineview               6.0  25.0   \n",
      "4       1      231EN31        2808.0    Fairywood               2.0  28.0   \n",
      "\n",
      "          tract  public_works_division  pli_division  police_zone fire_zone  \\\n",
      "0  4.200356e+10                    NaN           NaN          NaN      3-16   \n",
      "1  4.200356e+10                    NaN           NaN          NaN      3-21   \n",
      "2           NaN                    NaN           NaN          NaN      1-1A   \n",
      "3  4.200325e+10                    1.0          25.0          1.0      1-10   \n",
      "4  4.200356e+10                    5.0          28.0          6.0      1-16   \n",
      "\n",
      "    latitude  longitude  \n",
      "0  40.441275 -79.882485  \n",
      "1  40.436342 -79.881003  \n",
      "2        NaN        NaN  \n",
      "3  40.460303 -80.006980  \n",
      "4  40.449009 -80.076607  \n"
     ]
    }
   ],
   "source": [
    "fireData = pd.read_csv(\"https://data.wprdc.org/datastore/dump/8d76ac6b-5ae8-4428-82a4-043130d17b02\")\n",
    "neighborhoodFires = {}\n",
    "print(fireData.head(5))"
   ]
  },
  {
   "cell_type": "code",
   "execution_count": 11,
   "metadata": {},
   "outputs": [
    {
     "name": "stdout",
     "output_type": "stream",
     "text": [
      "{nan: 887, 'Fineview': 45, 'Fairywood': 19, 'South Side Flats': 202, 'Allegheny Center': 50, 'Lincoln-Lemington-Belmar': 160, 'Carrick': 230, 'Beechview': 115, 'Allentown': 99, 'Beltzhoover': 107, 'Crafton Heights': 70, 'Homewood North': 155, 'Squirrel Hill South': 200, 'Perry North': 95, 'Bedford Dwellings': 34, 'Homewood South': 143, 'East Allegheny': 96, 'Crawford-Roberts': 84, 'Sheraden': 144, 'Middle Hill': 86, 'Strip District': 41, 'East Hills': 132, 'Garfield': 90, 'Greenfield': 84, 'North Shore': 53, 'Spring Hill-City View': 86, 'Central Business District': 208, 'Upper Hill': 37, 'Manchester': 57, 'Overbrook': 43, 'Polish Hill': 30, 'Central Lawrenceville': 62, 'Brookline': 143, 'Marshall-Shadeland': 106, 'North Oakland': 101, 'South Oakland': 73, 'Homewood West': 45, 'East Liberty': 168, 'Hazelwood': 200, 'Squirrel Hill North': 102, 'Friendship': 26, 'West Oakland': 52, 'Terrace Village': 76, 'Brighton Heights': 117, 'Troy Hill': 61, 'Windgap': 16, 'Knoxville': 131, 'Upper Lawrenceville': 41, 'Arlington': 40, 'Elliott': 56, 'South Side Slopes': 77, 'Bloomfield': 133, 'Perry South': 137, 'Central Northside': 102, 'Point Breeze': 61, 'Bluff': 102, 'Mount Washington': 166, 'Point Breeze North': 39, 'Swisshelm Park': 14, 'Banksville': 50, 'Shadyside': 139, 'Spring Garden': 21, 'Regent Square': 6, 'Allegheny West': 34, 'Lower Lawrenceville': 44, 'Larimer': 111, 'Highland Park': 60, 'Stanton Heights': 47, 'Bon Air': 16, 'Glen Hazel': 18, 'Lincoln Place': 51, 'West End': 17, 'Central Oakland': 79, 'Ridgemont': 12, 'Westwood': 22, 'Summer Hill': 17, 'Esplen': 18, 'Morningside': 29, 'Hays': 12, 'Duquesne Heights': 28, 'California-Kirkbride': 31, 'Northview Heights': 56, 'New Homestead': 20, 'Chateau': 36, 'Mount Oliver Borough': 6, 'St. Clair': 11, 'East Carnegie': 8, 'Arlington Heights': 12, 'South Shore': 19, 'Oakwood': 13, 'Chartiers City': 13, 'Mt. Oliver': 10}\n"
     ]
    }
   ],
   "source": [
    "def fireMetricAdd():\n",
    "    for i in range(0, len(fireData) - 1):\n",
    "        if (fireData[\"neighborhood\"].iloc[i] in neighborhoodFires):\n",
    "            neighborhoodFires[fireData[\"neighborhood\"].iloc[i]] += 1\n",
    "        else:\n",
    "            neighborhoodFires[fireData[\"neighborhood\"].iloc[i]] = 1\n",
    "            \n",
    "fireMetricAdd()\n",
    "print(neighborhoodFires)"
   ]
  },
  {
   "cell_type": "code",
   "execution_count": 12,
   "metadata": {},
   "outputs": [
    {
     "name": "stdout",
     "output_type": "stream",
     "text": [
      "{'Fineview': 45, 'Fairywood': 19, 'South Side Flats': 202, 'Allegheny Center': 50, 'Lincoln-Lemington-Belmar': 160, 'Carrick': 230, 'Beechview': 115, 'Allentown': 99, 'Beltzhoover': 107, 'Crafton Heights': 70, 'Homewood North': 155, 'Squirrel Hill South': 200, 'Perry North': 95, 'Bedford Dwellings': 34, 'Homewood South': 143, 'East Allegheny': 96, 'Crawford-Roberts': 84, 'Sheraden': 144, 'Middle Hill': 86, 'Strip District': 41, 'East Hills': 132, 'Garfield': 90, 'Greenfield': 84, 'North Shore': 53, 'Spring Hill-City View': 86, 'Central Business District': 208, 'Upper Hill': 37, 'Manchester': 57, 'Overbrook': 43, 'Polish Hill': 30, 'Central Lawrenceville': 62, 'Brookline': 143, 'Marshall-Shadeland': 106, 'North Oakland': 101, 'South Oakland': 73, 'Homewood West': 45, 'East Liberty': 168, 'Hazelwood': 200, 'Squirrel Hill North': 102, 'Friendship': 26, 'West Oakland': 52, 'Terrace Village': 76, 'Brighton Heights': 117, 'Troy Hill': 61, 'Windgap': 16, 'Knoxville': 131, 'Upper Lawrenceville': 41, 'Arlington': 40, 'Elliott': 56, 'South Side Slopes': 77, 'Bloomfield': 133, 'Perry South': 137, 'Central Northside': 102, 'Point Breeze': 61, 'Bluff': 102, 'Mount Washington': 166, 'Point Breeze North': 39, 'Swisshelm Park': 14, 'Banksville': 50, 'Shadyside': 139, 'Spring Garden': 21, 'Regent Square': 6, 'Allegheny West': 34, 'Lower Lawrenceville': 44, 'Larimer': 111, 'Highland Park': 60, 'Stanton Heights': 47, 'Bon Air': 16, 'Glen Hazel': 18, 'Lincoln Place': 51, 'West End': 17, 'Central Oakland': 79, 'Ridgemont': 12, 'Westwood': 22, 'Summer Hill': 17, 'Esplen': 18, 'Morningside': 29, 'Hays': 12, 'Duquesne Heights': 28, 'California-Kirkbride': 31, 'Northview Heights': 56, 'New Homestead': 20, 'Chateau': 36, 'Mount Oliver Borough': 6, 'St. Clair': 11, 'East Carnegie': 8, 'Arlington Heights': 12, 'South Shore': 19, 'Oakwood': 13, 'Chartiers City': 13, 'Mt. Oliver': 10}\n"
     ]
    }
   ],
   "source": [
    "neighborhoodFiresNoNan = {k: neighborhoodFires[k] for k in neighborhoodFires if type(k) is str}\n",
    "print(neighborhoodFiresNoNan)\n"
   ]
  },
  {
   "cell_type": "code",
   "execution_count": null,
   "metadata": {},
   "outputs": [],
   "source": []
  }
 ],
 "metadata": {
  "kernelspec": {
   "display_name": "Python 3",
   "language": "python",
   "name": "python3"
  },
  "language_info": {
   "codemirror_mode": {
    "name": "ipython",
    "version": 3
   },
   "file_extension": ".py",
   "mimetype": "text/x-python",
   "name": "python",
   "nbconvert_exporter": "python",
   "pygments_lexer": "ipython3",
   "version": "3.7.8"
  }
 },
 "nbformat": 4,
 "nbformat_minor": 4
}
